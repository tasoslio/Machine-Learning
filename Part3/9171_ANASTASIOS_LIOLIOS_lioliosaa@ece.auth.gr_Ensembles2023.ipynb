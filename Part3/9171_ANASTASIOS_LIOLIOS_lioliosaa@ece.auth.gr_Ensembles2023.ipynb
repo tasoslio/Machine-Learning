{
 "cells": [
  {
   "cell_type": "markdown",
   "metadata": {
    "id": "O8gU7AYPXMmA"
   },
   "source": [
    "## About iPython Notebooks ##\n",
    "\n",
    "iPython Notebooks are interactive coding environments embedded in a webpage. You will be using iPython notebooks in this class. Make sure you fill in any place that says `# BEGIN CODE HERE #END CODE HERE`. After writing your code, you can run the cell by either pressing \"SHIFT\"+\"ENTER\" or by clicking on \"Run\" (denoted by a play symbol). Before you turn this problem in, make sure everything runs as expected. First, **restart the kernel** (in the menubar, select Kernel$\\rightarrow$Restart) and then **run all cells** (in the menubar, select Cell$\\rightarrow$Run All). \n",
    "\n",
    " **What you need to remember:**\n",
    "\n",
    "- Run your cells using SHIFT+ENTER (or \"Run cell\")\n",
    "- Write code in the designated areas using Python 3 only\n",
    "- Do not modify the code outside of the designated areas\n",
    "- In some cases you will also need to explain the results. There will also be designated areas for that. \n",
    "\n",
    "Fill in your **NAME** and **AEM** below:"
   ]
  },
  {
   "cell_type": "code",
   "execution_count": 1,
   "metadata": {
    "id": "lO-jJrtNXMmH"
   },
   "outputs": [],
   "source": [
    "NAME = \"Liolios Anastasis\"\n",
    "AEM = \"9171\""
   ]
  },
  {
   "cell_type": "markdown",
   "metadata": {
    "id": "sh0EE7BJXMmJ"
   },
   "source": [
    "---"
   ]
  },
  {
   "cell_type": "markdown",
   "metadata": {
    "id": "v_VpnGyWXMmK"
   },
   "source": [
    "# Assignment 3 - Ensemble Methods #"
   ]
  },
  {
   "cell_type": "markdown",
   "metadata": {
    "id": "2dQ9XoGQXMmK"
   },
   "source": [
    "Welcome to your third assignment. This exercise will test your understanding on Ensemble Methods."
   ]
  },
  {
   "cell_type": "code",
   "execution_count": 2,
   "metadata": {
    "id": "JvHYIhS-XMmL"
   },
   "outputs": [],
   "source": [
    "# Always run this cell\n",
    "import numpy as np\n",
    "import pandas as pd\n",
    "\n",
    "# USE THE FOLLOWING RANDOM STATE FOR YOUR CODE\n",
    "RANDOM_STATE = 42"
   ]
  },
  {
   "cell_type": "markdown",
   "metadata": {
    "id": "joKwpih2XMmM"
   },
   "source": [
    "## Download the Dataset ##\n",
    "Download the dataset using the following cell or from this [link](https://github.com/sakrifor/public/tree/master/machine_learning_course/EnsembleDataset) and put the files in the same folder as the .ipynb file. \n",
    "In this assignment you are going to work with a dataset originated from the [ImageCLEFmed: The Medical Task 2016](https://www.imageclef.org/2016/medical) and the **Compound figure detection** subtask. The goal of this subtask is to identify whether a figure is a compound figure (one image consists of more than one figure) or not. The train dataset consits of 4197 examples/figures and each figure has 4096 features which were extracted using a deep neural network. The *CLASS* column represents the class of each example where 1 is a compoung figure and 0 is not. \n"
   ]
  },
  {
   "cell_type": "code",
   "execution_count": 3,
   "metadata": {
    "colab": {
     "base_uri": "https://localhost:8080/"
    },
    "id": "NJdwPr0bXMmM",
    "outputId": "dc14a3cc-7133-4b2c-a425-4453ee801ee8"
   },
   "outputs": [
    {
     "data": {
      "text/plain": [
       "('test_set_noclass.csv', <http.client.HTTPMessage at 0x24bdfe1b760>)"
      ]
     },
     "execution_count": 3,
     "metadata": {},
     "output_type": "execute_result"
    }
   ],
   "source": [
    "import urllib.request\n",
    "url_train = 'https://github.com/sakrifor/public/raw/master/machine_learning_course/EnsembleDataset/train_set.csv'\n",
    "filename_train = 'train_set.csv'\n",
    "urllib.request.urlretrieve(url_train, filename_train)\n",
    "url_test = 'https://github.com/sakrifor/public/raw/master/machine_learning_course/EnsembleDataset/test_set_noclass.csv'\n",
    "filename_test = 'test_set_noclass.csv'\n",
    "urllib.request.urlretrieve(url_test, filename_test)"
   ]
  },
  {
   "cell_type": "code",
   "execution_count": 4,
   "metadata": {
    "id": "t0OVtYr7XMmN"
   },
   "outputs": [],
   "source": [
    "# Run this cell to load the data\n",
    "train_set = pd.read_csv(\"train_set.csv\").sample(frac=1).reset_index(drop=True)\n",
    "train_set.head()\n",
    "X = train_set.drop(columns=['CLASS'])\n",
    "y = train_set['CLASS'].values"
   ]
  },
  {
   "cell_type": "code",
   "execution_count": 5,
   "metadata": {
    "id": "4XK751YSecqQ"
   },
   "outputs": [
    {
     "name": "stdout",
     "output_type": "stream",
     "text": [
      "Collecting imbalanced-learn\n",
      "  Downloading imbalanced_learn-0.10.1-py3-none-any.whl (226 kB)\n",
      "Collecting joblib>=1.1.1\n",
      "  Downloading joblib-1.2.0-py3-none-any.whl (297 kB)\n",
      "Collecting scikit-learn>=1.0.2\n",
      "  Downloading scikit_learn-1.2.2-cp38-cp38-win_amd64.whl (8.3 MB)\n",
      "Requirement already satisfied, skipping upgrade: scipy>=1.3.2 in c:\\users\\anastasis\\anaconda3\\lib\\site-packages (from imbalanced-learn) (1.5.2)\n",
      "Requirement already satisfied, skipping upgrade: numpy>=1.17.3 in c:\\users\\anastasis\\anaconda3\\lib\\site-packages (from imbalanced-learn) (1.19.2)\n",
      "Requirement already satisfied, skipping upgrade: threadpoolctl>=2.0.0 in c:\\users\\anastasis\\anaconda3\\lib\\site-packages (from imbalanced-learn) (2.1.0)\n",
      "Installing collected packages: joblib, scikit-learn, imbalanced-learn\n",
      "  Attempting uninstall: joblib\n",
      "    Found existing installation: joblib 0.17.0\n",
      "    Uninstalling joblib-0.17.0:\n",
      "      Successfully uninstalled joblib-0.17.0\n",
      "  Attempting uninstall: scikit-learn\n",
      "    Found existing installation: scikit-learn 0.23.2\n",
      "    Uninstalling scikit-learn-0.23.2:\n",
      "      Successfully uninstalled scikit-learn-0.23.2\n",
      "Successfully installed imbalanced-learn-0.10.1 joblib-1.2.0 scikit-learn-1.2.2\n"
     ]
    }
   ],
   "source": [
    "!pip install -U imbalanced-learn"
   ]
  },
  {
   "cell_type": "markdown",
   "metadata": {
    "id": "tQH40Vb5fvx2"
   },
   "source": [
    "The following code will reduce the number of instances, dealing with the small imbalance of the dataset, as well as reducing the size of the dataset!"
   ]
  },
  {
   "cell_type": "code",
   "execution_count": 6,
   "metadata": {
    "colab": {
     "base_uri": "https://localhost:8080/"
    },
    "id": "DIgD6Nmkeaxv",
    "outputId": "38039fc6-786f-4a7e-cccb-b5843c1fef61"
   },
   "outputs": [
    {
     "name": "stdout",
     "output_type": "stream",
     "text": [
      "Resampled dataset shape Counter({0: 1687, 1: 1687})\n"
     ]
    }
   ],
   "source": [
    "from collections import Counter\n",
    "from imblearn.under_sampling import NeighbourhoodCleaningRule, RandomUnderSampler\n",
    "\n",
    "ncr = NeighbourhoodCleaningRule()\n",
    "X_res, y_res = ncr.fit_resample(X, y)\n",
    "rus = RandomUnderSampler(random_state=42)\n",
    "X_res, y_res = rus.fit_resample(X_res, y_res)\n",
    "print('Resampled dataset shape %s' % Counter(y_res))\n",
    "X = X_res\n",
    "y = y_res"
   ]
  },
  {
   "cell_type": "markdown",
   "metadata": {
    "id": "ZxOGHSmqXMmO"
   },
   "source": [
    "## 1.0 Testing different ensemble methods ##\n",
    "In this part of the assignment you are asked to create and test different ensemble methods using the train_set.csv dataset. You should use **5-fold cross validation** for your tests and report the average f-measure weighted and balanced accuracy of your models. You can use [cross_validate](https://scikit-learn.org/stable/modules/generated/sklearn.model_selection.cross_validate.html#sklearn.model_selection.cross_validate) and select both metrics to be measured during the evaluation. \n",
    "\n",
    "### !!! Use n_jobs=-1 where is posibble to use all the cores of a machine for running your tests ###"
   ]
  },
  {
   "cell_type": "markdown",
   "metadata": {
    "id": "Ww_u4OlrXMmO"
   },
   "source": [
    "### 1.1 Voting ###\n",
    "Create a voting classifier which uses two **simple** estimators/classifiers. Test both soft and hard voting and report the results. Consider as simple estimators the following:\n",
    "\n",
    "\n",
    "*   Decision Trees\n",
    "*   Linear Models\n",
    "*   KNN Models  "
   ]
  },
  {
   "cell_type": "code",
   "execution_count": 12,
   "metadata": {
    "id": "9xKWBVWVz3yV"
   },
   "outputs": [
    {
     "name": "stderr",
     "output_type": "stream",
     "text": [
      "[Parallel(n_jobs=-1)]: Using backend LokyBackend with 4 concurrent workers.\n",
      "[Parallel(n_jobs=-1)]: Done   5 out of   5 | elapsed:   15.6s finished\n",
      "[Parallel(n_jobs=-1)]: Using backend LokyBackend with 4 concurrent workers.\n",
      "[Parallel(n_jobs=-1)]: Done   5 out of   5 | elapsed:   11.5s finished\n"
     ]
    },
    {
     "name": "stdout",
     "output_type": "stream",
     "text": [
      "Classifier:\n",
      "VotingClassifier(estimators=[('tree',\n",
      "                              DecisionTreeClassifier(max_depth=6,\n",
      "                                                     random_state=42)),\n",
      "                             ('lg', LogisticRegression(random_state=42))],\n",
      "                 n_jobs=-1, voting='soft')\n",
      "F1 Weighted-Score: 0.8683 & Balanced Accuracy: 0.8681\n",
      "Classifier:\n",
      "VotingClassifier(estimators=[('tree',\n",
      "                              DecisionTreeClassifier(max_depth=6,\n",
      "                                                     random_state=42)),\n",
      "                             ('lg', LogisticRegression(random_state=42))],\n",
      "                 n_jobs=-1)\n",
      "F1 Weighted-Score: 0.7953 & Balanced Accuracy: 0.8216\n"
     ]
    }
   ],
   "source": [
    "### BEGIN SOLUTION\n",
    "from sklearn.tree import DecisionTreeClassifier\n",
    "from sklearn.ensemble import VotingClassifier\n",
    "from sklearn.model_selection import cross_validate\n",
    "from sklearn.linear_model import LogisticRegression\n",
    "from sklearn.model_selection import StratifiedKFold\n",
    "\n",
    "# USE RANDOM STATE! \n",
    "cls1 = DecisionTreeClassifier(criterion=\"gini\",max_depth = 6, random_state=RANDOM_STATE) # Classifier #1 \n",
    "cls2 = LogisticRegression(random_state=RANDOM_STATE) # Classifier #2 \n",
    "soft_vcls = VotingClassifier([(\"tree\", cls1), (\"lg\", cls2)], voting=\"soft\", n_jobs=-1) # Voting Classifier\n",
    "hard_vcls = VotingClassifier([(\"tree\", cls1), (\"lg\", cls2)], voting=\"hard\", n_jobs=-1) # Voting Classifier\n",
    "\n",
    "# Cross validation with 5 folds\n",
    "cv = StratifiedKFold(n_splits=5, shuffle=True, random_state=RANDOM_STATE)\n",
    "\n",
    "svlcs_scores = cross_validate(soft_vcls, X, y, scoring=[\"f1\", \"accuracy\"], cv=cv, n_jobs=-1, verbose=1)\n",
    "s_avg_fmeasure = np.mean(svlcs_scores[\"test_f1\"]) # The average f-measure\n",
    "s_avg_accuracy = np.mean(svlcs_scores[\"test_accuracy\"]) # The average accuracy\n",
    "\n",
    "hvlcs_scores = cross_validate(hard_vcls, X, y, scoring=[\"f1\", \"accuracy\"], cv=cv, n_jobs=-1, verbose=1)\n",
    "h_avg_fmeasure = np.mean(hvlcs_scores[\"test_f1\"]) # The average f-measure\n",
    "h_avg_accuracy = np.mean(hvlcs_scores[\"test_accuracy\"]) # The average accuracy\n",
    "\n",
    "### END SOLUTION\n",
    "\n",
    "print(\"Classifier:\")\n",
    "print(soft_vcls)\n",
    "print(\"F1 Weighted-Score: {} & Balanced Accuracy: {}\".format(round(s_avg_fmeasure,4), round(s_avg_accuracy,4)))\n",
    "\n",
    "print(\"Classifier:\")\n",
    "print(hard_vcls)\n",
    "print(\"F1 Weighted-Score: {} & Balanced Accuracy: {}\".format(round(h_avg_fmeasure,4), round(h_avg_accuracy,4)))"
   ]
  },
  {
   "cell_type": "markdown",
   "metadata": {
    "id": "92ubbtE8gtHy"
   },
   "source": [
    "For both soft/hard voting classifiers the F1 weighted score should be above 0.74 and 0.79, respectively, and for balanced accuracy 0.74 and 0.80. Remember! This should be the average performance of each fold, as measured through cross-validation with 5 folds!"
   ]
  },
  {
   "cell_type": "markdown",
   "metadata": {
    "id": "KPG8MdFLXMmV"
   },
   "source": [
    "### 1.2 Randomization\n",
    "\n",
    "You are asked to create three ensembles of decision trees where each one uses a different method for producing homogeneous ensembles. Compare them with a simple decision tree classifier and report your results in the dictionaries (dict) below using as key the given name of your classifier and as value the f1_weighted/balanced_accuracy score. The dictionaries should contain four different elements. Use the same cross-validation approach as before! "
   ]
  },
  {
   "cell_type": "code",
   "execution_count": 10,
   "metadata": {
    "id": "PmkaP-DjXMmV"
   },
   "outputs": [
    {
     "name": "stdout",
     "output_type": "stream",
     "text": [
      "BaggingClassifier(estimator=DecisionTreeClassifier(random_state=42),\n",
      "                  n_estimators=100, n_jobs=-1, random_state=42)\n",
      "RandomForestClassifier(n_jobs=-1, random_state=42)\n",
      "AdaBoostClassifier(estimator=DecisionTreeClassifier(random_state=42),\n",
      "                   n_estimators=100, random_state=42)\n",
      "DecisionTreeClassifier(random_state=42)\n",
      "Classifier: Bagging Classifier -  F1 Weighted: 0.8618\n",
      "Classifier: Random Forest Classifier -  F1 Weighted: 0.8592\n",
      "Classifier: AdaBoost Classifier -  F1 Weighted: 0.7449\n",
      "Classifier: Simple Tree Classifier -  F1 Weighted: 0.7496\n",
      "Classifier: Bagging Classifier -  BalancedAccuracy: 0.8607\n",
      "Classifier: Random Forest Classifier -  BalancedAccuracy: 0.8586\n",
      "Classifier: AdaBoost Classifier -  BalancedAccuracy: 0.7427\n",
      "Classifier: Simple Tree Classifier -  BalancedAccuracy: 0.7475\n"
     ]
    }
   ],
   "source": [
    "### BEGIN SOLUTION\n",
    "from sklearn.ensemble import BaggingClassifier, RandomForestClassifier, AdaBoostClassifier\n",
    "\n",
    "ens1 = BaggingClassifier(DecisionTreeClassifier( random_state=RANDOM_STATE), n_estimators=100, n_jobs=-1, random_state=RANDOM_STATE)\n",
    "ens2 = RandomForestClassifier(n_estimators=100, criterion=\"gini\", bootstrap=True, n_jobs=-1, random_state=RANDOM_STATE)\n",
    "ens3 = AdaBoostClassifier(DecisionTreeClassifier( random_state=RANDOM_STATE), n_estimators=100, random_state=RANDOM_STATE)\n",
    "tree = DecisionTreeClassifier( random_state=RANDOM_STATE)\n",
    "\n",
    "# Cross Validation\n",
    "cv = StratifiedKFold(n_splits=5, shuffle=True, random_state=RANDOM_STATE)\n",
    "\n",
    "bag_scores = cross_validate(ens1, X, y, scoring=[\"f1\", \"accuracy\"], cv=cv, n_jobs=-1)\n",
    "bag_avg_fmeasure = np.mean(bag_scores[\"test_f1\"]) # The average f-measure\n",
    "bag_avg_accuracy = np.mean(bag_scores[\"test_accuracy\"]) # The average accuracy\n",
    "\n",
    "rf_scores = cross_validate(ens2, X, y, scoring=[\"f1\", \"accuracy\"], cv=cv, n_jobs=-1)\n",
    "rf_avg_fmeasure = np.mean(rf_scores[\"test_f1\"]) # The average f-measure\n",
    "rf_avg_accuracy = np.mean(rf_scores[\"test_accuracy\"]) # The average accuracy\n",
    "\n",
    "ada_scores = cross_validate(ens3, X, y, scoring=[\"f1\", \"accuracy\"], cv=cv, n_jobs=-1)\n",
    "ada_avg_fmeasure = np.mean(ada_scores[\"test_f1\"]) # The average f-measure\n",
    "ada_avg_accuracy = np.mean(ada_scores[\"test_accuracy\"]) # The average accuracy\n",
    "\n",
    "tree_scores = cross_validate(tree, X, y, scoring=[\"f1\", \"accuracy\"], cv=cv, n_jobs=-1)\n",
    "tree_avg_fmeasure = np.mean(tree_scores[\"test_f1\"]) # The average f-measure\n",
    "tree_avg_accuracy = np.mean(tree_scores[\"test_accuracy\"]) # The average accuracy\n",
    "\n",
    "\n",
    "\n",
    "f_measures = dict()\n",
    "f_measures[\"Bagging Classifier\"] = bag_avg_fmeasure\n",
    "f_measures[\"Random Forest Classifier\"] = rf_avg_fmeasure\n",
    "f_measures[\"AdaBoost Classifier\"] = ada_avg_fmeasure\n",
    "f_measures[\"Simple Tree Classifier\"] = tree_avg_fmeasure\n",
    "\n",
    "accuracies = dict()\n",
    "accuracies[\"Bagging Classifier\"] = bag_avg_accuracy\n",
    "accuracies[\"Random Forest Classifier\"] = rf_avg_accuracy\n",
    "accuracies[\"AdaBoost Classifier\"] = ada_avg_accuracy\n",
    "accuracies[\"Simple Tree Classifier\"] = tree_avg_accuracy\n",
    "# Example f_measures = {'Simple Decision':0.8551, 'Ensemble with random ...': 0.92, ...}\n",
    "\n",
    "\n",
    "### END SOLUTION\n",
    "\n",
    "print(ens1)\n",
    "print(ens2)\n",
    "print(ens3)\n",
    "print(tree)\n",
    "for name,score in f_measures.items():\n",
    "    print(\"Classifier: {} -  F1 Weighted: {}\".format(name,round(score,4)))\n",
    "for name,score in accuracies.items():\n",
    "    print(\"Classifier: {} -  BalancedAccuracy: {}\".format(name,round(score,4)))"
   ]
  },
  {
   "cell_type": "markdown",
   "metadata": {
    "id": "lkJeuV1FXMmX"
   },
   "source": [
    "### 1.3 Question\n",
    "\n",
    "Increasing the number of estimators in a bagging classifier can drastically increase the training time of a classifier. Is there any solution to this problem? Can the same solution be applied to boosting classifiers?"
   ]
  },
  {
   "cell_type": "markdown",
   "metadata": {
    "id": "ApNEPcWEXMmY"
   },
   "source": [
    "Για τον Bagging Classifier μπορούμε να αποφύγουμε τον υψηλό χρόνο εκπαίδευσης παρά την αύξηση του αριθμού των estimators τρέχοντας τα επιμέρους μοντέλα παράλληλα αφού είναι ανεξάρτητα το ένα από το άλλο. Για τους boosting classifiers δεν μπορεί να εφαρμοστεί αυτό καθώς τα επιμέρους μοντέλα τρέχουν σειριακά δηλαδή το επόμενο μοντέλο τρέχει εφόσον έχει τελειώσει το προηγούμενο."
   ]
  },
  {
   "cell_type": "markdown",
   "metadata": {
    "id": "XgvsCbUGXMmY"
   },
   "source": [
    "## 2.0 Creating the best classifier ##\n",
    "In the second part of this assignment, we will try to train the best classifier, as well as to evaluate it using stratified cross valdiation."
   ]
  },
  {
   "cell_type": "markdown",
   "metadata": {
    "id": "Q6daX2mRXMmZ"
   },
   "source": [
    "### 2.1 Good Performing Ensemble\n",
    "\n",
    "In this part of the assignment you are asked to train a good performing ensemble, that is able to be used in a production environment! Describe the process you followed to achieve this result. How did you choose your classifier and your parameters and why. Report the f-measure (weighted) & balanced accuracy, using 10-fold stratified cross validation, of your final classifier. Can you achieve a balanced accuracy over 88%, while keeping the training time low? (Tip 1: You can even use a model from the previous parts, but you are advised to test additional configurations, and ensemble architectures, Tip 2: If you try a lot of models/ensembles/configurations or even grid searches, in your answer leave only the classifier you selected as the best!)"
   ]
  },
  {
   "cell_type": "code",
   "execution_count": 13,
   "metadata": {
    "id": "00xAQ0HfXMmZ"
   },
   "outputs": [
    {
     "name": "stderr",
     "output_type": "stream",
     "text": [
      "[Parallel(n_jobs=-1)]: Using backend LokyBackend with 4 concurrent workers.\n",
      "[Parallel(n_jobs=-1)]: Done  10 out of  10 | elapsed:  1.1min finished\n"
     ]
    },
    {
     "name": "stdout",
     "output_type": "stream",
     "text": [
      "Classifier:\n",
      "F1 Weighted-Score: 0.8873481101767602 & Balanced Accuracy: 0.8870735518761084\n"
     ]
    }
   ],
   "source": [
    "### BEGIN SOLUTION\n",
    "\n",
    "cv = StratifiedKFold(n_splits=10, shuffle=True, random_state=RANDOM_STATE)\n",
    "\n",
    "clf1 = DecisionTreeClassifier(criterion=\"gini\",max_depth = 6, random_state=RANDOM_STATE)\n",
    "clf2 = LogisticRegression(random_state=RANDOM_STATE)\n",
    "clf3 = RandomForestClassifier(n_jobs=-1, random_state=42)\n",
    "\n",
    "best_cls = VotingClassifier([(\"tree\", clf1), (\"lg\", clf2), (\"rf\", clf3)], voting=\"soft\", n_jobs=-1)\n",
    "\n",
    "best_scores = cross_validate(best_cls, X, y, scoring=[\"f1\", \"accuracy\"], cv=cv, n_jobs=-1, verbose=1)\n",
    "\n",
    "best_fmeasure = np.mean(best_scores[\"test_f1\"])\n",
    "best_accuracy = np.mean(best_scores[\"test_accuracy\"])\n",
    "### END SOLUTION\n",
    "\n",
    "print(\"Classifier:\")\n",
    "#print(best_cls)\n",
    "print(\"F1 Weighted-Score: {} & Balanced Accuracy: {}\".format(best_fmeasure, best_accuracy))"
   ]
  },
  {
   "cell_type": "markdown",
   "metadata": {
    "id": "lnAp-d2DXMmf"
   },
   "source": [
    "LEAVE HERE ANY COMMENTS ABOUT YOUR CLASSIFIER"
   ]
  },
  {
   "cell_type": "markdown",
   "metadata": {
    "id": "vnos1uqzXMma"
   },
   "source": [
    "### 2.2 Question\n",
    " What other ensemble architectures you tried, and why you did not choose them as your final classifier?"
   ]
  },
  {
   "cell_type": "markdown",
   "metadata": {
    "id": "o5dAfbTfXMmb"
   },
   "source": [
    "Παρατηρώντας τα αποτελέσματα από το πρώτο μέρος της εργασίας παρατηρούμε ότι οι 3 classifiers που χρησιμοποιούμε για να υλοποιήσουμε τον καλύτερο classifier έχουν καλές μετρικές μεμονομένα και κάνοντας voting. Επομένως, δεν δοκίμασα περισσότερες τεχνικές αφού η πρώτη λύση που σκέφτηκα είναι αυτή που περιγράφω. Έτσι, η λύση αυτή είναι και γρήγορη και επιτυγχάνει το στόχο μας."
   ]
  },
  {
   "cell_type": "markdown",
   "metadata": {
    "id": "dI1yb95A8r3k"
   },
   "source": [
    "### 2.3 Setup the Final Classifier\n",
    "Finally, in this last cell, set the cls variable to either the best model as occured by the stratified cross_validation, or choose to retrain your classifier in the whole dataset (X, y). There is no correct answer, but try to explain your choice. Then, save your model using pickle and upload it with your submission to e-learning!"
   ]
  },
  {
   "cell_type": "code",
   "execution_count": 21,
   "metadata": {
    "id": "GYNkmiUOXMmh"
   },
   "outputs": [],
   "source": [
    "import pickle\n",
    "from sklearn.metrics import f1_score, accuracy_score\n",
    "### BEGIN SOLUTION\n",
    "cls = best_cls\n",
    "cls.fit(X, y)\n",
    "\n",
    "# save with pickle\n",
    "file_name = \"best_clf_9171.pkl\"\n",
    "pickle.dump(cls, open(file_name, \"wb\"))\n",
    "### END SOLUTION\n",
    "\n",
    "\n",
    "# load\n",
    "cls = pickle.load(open(file_name, \"rb\"))\n",
    "\n",
    "test_set = pd.read_csv(\"test_set_noclass.csv\")\n",
    "predictions = cls.predict(test_set)\n",
    "\n",
    "# We are going to run the following code\n",
    "if False:\n",
    "  from sklearn.metrics import f1_score, balanced_accuracy_score\n",
    "  final_test_set = pd.read_csv('test_set.csv')\n",
    "  ground_truth = final_test_set['CLASS']\n",
    "  print(\"Balanced Accuracy: {}\".format(balanced_accuracy_score(predictions, ground_truth)))\n",
    "  print(\"F1 Weighted-Score: {}\".format(f1_score(predictions, ground_truth, average='weighted')))"
   ]
  },
  {
   "cell_type": "markdown",
   "metadata": {
    "id": "2pB4bTSj4Bvj"
   },
   "source": [
    "Both metrics should aim above 82%! This is going to be tested by us! Make sure your cross validation or your retrained model achieves high balanced accuracy and f1_score (based on 2.1) (more than 88%) as it should achieve at least 82% in our unknown test set!\n"
   ]
  },
  {
   "cell_type": "markdown",
   "metadata": {
    "id": "osJK4OGy9J9f"
   },
   "source": [
    "Please provide your feedback regarding this project! Did you enjoy it? "
   ]
  },
  {
   "cell_type": "code",
   "execution_count": null,
   "metadata": {
    "id": "UpFilLbT9Y03"
   },
   "outputs": [],
   "source": [
    "# Για άλλη μια φορά πολύ ενδιαφέρουσα εργασία, η οποία μας μαθαίνει χρήσιμες στρατηγικές και μεθόδους στη μηχανική μάθηση. "
   ]
  }
 ],
 "metadata": {
  "accelerator": "GPU",
  "colab": {
   "provenance": []
  },
  "kernelspec": {
   "display_name": "Python 3",
   "language": "python",
   "name": "python3"
  },
  "language_info": {
   "codemirror_mode": {
    "name": "ipython",
    "version": 3
   },
   "file_extension": ".py",
   "mimetype": "text/x-python",
   "name": "python",
   "nbconvert_exporter": "python",
   "pygments_lexer": "ipython3",
   "version": "3.8.5"
  }
 },
 "nbformat": 4,
 "nbformat_minor": 1
}
